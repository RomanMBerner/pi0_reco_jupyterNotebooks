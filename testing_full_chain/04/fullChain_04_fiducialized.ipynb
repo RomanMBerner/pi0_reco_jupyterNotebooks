{
 "cells": [
  {
   "cell_type": "code",
   "execution_count": 1,
   "metadata": {},
   "outputs": [],
   "source": [
    "import sys\n",
    "#sys.path.append(\"/home/rberner/cernbox/PhD/pi0_reconstruction/reco_software/lartpc_mlreco3d\")   # locally\n",
    "#sys.path.append(\"/home/rberner/cernbox/PhD/pi0_reconstruction/reco_software/pi0_reco\")          # locally\n",
    "sys.path.append(\"/u/nu/rberner/pi0_reconstruction/lartpc_mlreco3d\")                            # SLAC\n",
    "sys.path.append(\"/u/nu/rberner/pi0_reconstruction/pi0_reco\")                                   # SLAC\n",
    "\n",
    "import yaml\n",
    "# Configuration for the data loader\n",
    "#io_cfg =  \"\"\"\n",
    "#iotool:\n",
    "#  batch_size: 1 \n",
    "#  #minibatch_size: 5 \n",
    "#  shuffle: False\n",
    "#  num_workers: 4\n",
    "#  collate_fn: CollateSparse\n",
    "#  #sampler:\n",
    "#  #  name: RandomSequenceSampler \n",
    "#  #  batch_size: 32\n",
    "#  dataset:\n",
    "#    name: LArCVDataset \n",
    "#    data_keys:\n",
    "#    #- /gpfs/slac/staas/fs1/g/neutrino/kvtsang/pdune/mpv/val/*.root\n",
    "#    #- /gpfs/slac/staas/fs1/g/neutrino/kvtsang/data/2019-09-27/*.root\n",
    "#    #- /gpfs/slac/staas/fs1/g/neutrino/kvtsang/data/2019-09-27/larcv_mc_00002.root\n",
    "#    #- /home/rberner/cernbox/PhD/pi0_reconstruction/reco_software/data/larcv_michel_pi0_v04.root\n",
    "#    - /home/rberner/cernbox/PhD/pi0_reconstruction/reco_software/data/larcv_mc_00002.root\n",
    "#    limit_num_files: 5\n",
    "#    schema:\n",
    "#      input_data: \n",
    "#        - parse_sparse3d_scn\n",
    "#        - sparse3d_reco\n",
    "#        - sparse3d_reco_inv_chi2\n",
    "#        - sparse3d_reco_hit_charge0\n",
    "#        - sparse3d_reco_hit_charge1\n",
    "#        - sparse3d_reco_hit_charge2\n",
    "#        - sparse3d_reco_hit_rms0\n",
    "#        - sparse3d_reco_hit_rms1\n",
    "#        - sparse3d_reco_hit_rms2\n",
    "#        - sparse3d_reco_hit_time0\n",
    "#        - sparse3d_reco_hit_time1\n",
    "#        - sparse3d_reco_hit_time2                                                                        \n",
    "#        - sparse3d_reco_occupancy\n",
    "#      energy:\n",
    "#        - parse_sparse3d_scn\n",
    "#        - sparse3d_mcst\n",
    "#      charge:\n",
    "#        - parse_sparse3d_scn\n",
    "#        - sparse3d_reco\n",
    "#      segment_label_true:\n",
    "#        - parse_sparse3d_scn\n",
    "#        - sparse3d_fivetypes_true\n",
    "#      segment_label_reco:\n",
    "#        - parse_sparse3d_scn\n",
    "#        - sparse3d_fivetypes_reco\n",
    "#      particles:\n",
    "#        - parse_particle_asis\n",
    "#        - particle_mcst\n",
    "#        - cluster3d_mcst\n",
    "#      particles_label:\n",
    "#        - parse_particle_points\n",
    "#        - sparse3d_reco                                                                                  \n",
    "#        - particle_mcst\n",
    "#      group_label_true:\n",
    "#        - parse_cluster3d_clean\n",
    "#        - cluster3d_mcst\n",
    "#        - sparse3d_mcst\n",
    "#      group_label_reco:\n",
    "#        - parse_cluster3d\n",
    "#        - cluster3d_mcst_reco\n",
    "#        - sparse3d_mcst\n",
    "#      dbscan_label_true:\n",
    "#        - parse_dbscan\n",
    "#        - sparse3d_fivetypes_true\n",
    "#      dbscan_label_reco:\n",
    "#        - parse_dbscan\n",
    "#        - sparse3d_fivetypes_reco\n",
    "#\"\"\"\n",
    "\n",
    "#io_cfg = \"\"\"\n",
    "#iotool:\n",
    "#  batch_size: 1\n",
    "#  shuffle: False\n",
    "#  num_workers: 1\n",
    "#  collate_fn: CollateSparse\n",
    "#  dataset:\n",
    "#    name: LArCVDataset\n",
    "#    data_keys:\n",
    "#     #- /gpfs/slac/staas/fs1/g/neutrino/kterao/data/mpvmpr_2020_01_v04/train.root\n",
    "#     - /home/rberner/cernbox/PhD/pi0_reconstruction/reco_software/data/train.root       # locally\n",
    "#     #- /u/nu/rberner/pi0_reconstruction/data/train.root                                # SLAC\n",
    "#    limit_num_files: 25\n",
    "#    schema:\n",
    "#      input_data:\n",
    "#        - parse_sparse3d_scn\n",
    "#        - sparse3d_pcluster\n",
    "#      segment_label:\n",
    "#        - parse_sparse3d_scn\n",
    "#        - sparse3d_pcluster_semantics\n",
    "#      cluster_label:\n",
    "#        - parse_cluster3d_full\n",
    "#        - cluster3d_pcluster\n",
    "#        - particle_corrected\n",
    "#      particles:\n",
    "#        - parse_particle_asis\n",
    "#        - particle_corrected\n",
    "#        - cluster3d_pcluster\n",
    "#      ppn_label:\n",
    "#        - parse_particle_points\n",
    "#        - sparse3d_pcluster\n",
    "#        - particle_corrected\n",
    "#\"\"\"\n",
    "\n",
    "io_cfg = \"\"\"\n",
    "iotool:\n",
    "  batch_size: 1\n",
    "  shuffle: False\n",
    "  num_workers: 1\n",
    "  collate_fn: CollateSparse\n",
    "  sampler:\n",
    "    name: RandomSequenceSampler\n",
    "  dataset:\n",
    "    name: LArCVDataset\n",
    "    data_keys:\n",
    "     #- /gpfs/slac/staas/fs1/g/neutrino/kterao/data/mpvmpr_2020_01_v04/train.root\n",
    "     #- /home/rberner/cernbox/PhD/pi0_reconstruction/reco_software/data/train.root       # locally\n",
    "     - /u/nu/rberner/pi0_reconstruction/data/train.root                                # SLAC\n",
    "    limit_num_files: 1\n",
    "    schema:\n",
    "      input_data:\n",
    "        - parse_sparse3d_scn\n",
    "        - sparse3d_pcluster\n",
    "      segment_label:\n",
    "        - parse_sparse3d_scn\n",
    "        - sparse3d_pcluster_semantics\n",
    "      semantics:\n",
    "        - parse_sparse3d_scn\n",
    "        - sparse3d_pcluster_semantics\n",
    "      dbscan_label:\n",
    "        - parse_cluster3d_clean_full\n",
    "        - cluster3d_pcluster\n",
    "        - particle_corrected\n",
    "        - sparse3d_pcluster_semantics\n",
    "      particles_label:\n",
    "        - parse_particle_points\n",
    "        - sparse3d_pcluster\n",
    "        - particle_corrected\n",
    "      cluster_label:\n",
    "        - parse_cluster3d_full\n",
    "        - cluster3d_pcluster\n",
    "        - particle_corrected\n",
    "      particles:\n",
    "        - parse_particle_asis\n",
    "        - particle_corrected\n",
    "        - cluster3d_pcluster\n",
    "      ppn_label:\n",
    "        - parse_particle_points\n",
    "        - sparse3d_pcluster\n",
    "        - particle_corrected\n",
    "\"\"\""
   ]
  },
  {
   "cell_type": "code",
   "execution_count": 2,
   "metadata": {},
   "outputs": [
    {
     "name": "stdout",
     "output_type": "stream",
     "text": [
      "__init__.py\t\tedge_econv.py\t\tmodular_nnconv.py\r\n",
      "__pycache__\t\tedge_meta.py\t\tmodular_nnconv_2.py\r\n",
      "cluster_cnn_encoder.py\tedge_nnconv.py\t\tnode_attention.py\r\n",
      "cluster_geo_encoder.py\tedge_node_only.py\tnode_econv.py\r\n",
      "cluster_gnn_encoder.py\tedge_only.py\t\tnode_nnconv.py\r\n",
      "dir_meta.py\t\tedge_pred.py\t\tnode_pred.py\r\n",
      "edge_attention.py\tfactories.py\t\tnormalizations.py\r\n",
      "edge_attention2.py\tfull_edge_node_only.py\r\n"
     ]
    }
   ],
   "source": [
    "! ls /u/nu/rberner/pi0_reconstruction/lartpc_mlreco3d/mlreco/models/gnn"
   ]
  },
  {
   "cell_type": "code",
   "execution_count": 3,
   "metadata": {},
   "outputs": [],
   "source": [
    "# Configuration of the reconstruction chain\n",
    "#chain_cfg = '''\n",
    "#name: pi0_chain_test\n",
    "#net_cfg: /home/rberner/cernbox/PhD/pi0_reconstruction/reco_software/config_files/uresnet_ppn.cfg\n",
    "#input:            energy     # charge\n",
    "#segment:          uresnet    # mask, uresnet\n",
    "#response:         average    # constant, average(, full, enet)\n",
    "#response_cst:     0.0082     # energy response constant (0.0082 for mask, 0.0052 for uresnet)\n",
    "#response_average: 0.877      # energy response average (1.3693 for mask, 0.877 for uresnet)\n",
    "#shower_start:     truth      # truth, ppn\n",
    "#shower_dir:       truth      # truth, pca, cent\n",
    "#shower_energy:    truth      # truth, group, cone, gnn\n",
    "#shower_match:     truth      # truth, proximity\n",
    "#refit_dir:        true       # true, false\n",
    "#refit_cone:       true       # true, false\n",
    "#'''\n",
    "chain_cfg = '''\n",
    "name: pi0_chain_fiducialized\n",
    "#net_cfg: /home/rberner/cernbox/PhD/pi0_reconstruction/reco_software/config_files/uresnet_ppn.cfg    # locally\n",
    "#net_cfg: /home/rberner/cernbox/PhD/pi0_reconstruction/reco_software/config_files/train_cluster_chain_gnn_dbscan.cfg\n",
    "#net_cfg: /u/nu/rberner/pi0_reconstruction/config_files/uresnet_ppn_gpu0.cfg                        # SLAC\n",
    "net_cfg: /u/nu/rberner/pi0_reconstruction/config_files/fullChain_gnn_dbscan_gpu0.cfg               # SLAC\n",
    "segment:               label  # label, uresnet\n",
    "deghost:                      # label, uresnet\n",
    "charge2energy:                # null, constant, average(, full, enet)\n",
    "charge2energy_cst:     0.0082 # energy response constant (0.0082 for mask, 0.0052 for uresnet)\n",
    "charge2energy_average: 0.877  # energy response average (1.3693 for mask, 0.877 for uresnet)\n",
    "shower_start:          label  # label, ppn\n",
    "shower_fragment:       dbscan # label, dbscan\n",
    "shower_direction:      pca    # label, pca, cent\n",
    "shower_cluster:        cone   # label, cone\n",
    "shower_cluster_params:\n",
    "  IP: 40\n",
    "  Distance: 300\n",
    "shower_energy:         pixel_sum  # label, pixel_sum\n",
    "shower_match:          label  # label, proximity\n",
    "refit_dir:             true   # true, false\n",
    "refit_cone:            true   # true, false\n",
    "fiducialize:           0      # Number of pixels to be removed from edge of LAr volume (pixel pitch: 3mm)\n",
    "'''\n",
    "chain_cfg = yaml.load(chain_cfg,Loader=yaml.Loader)"
   ]
  },
  {
   "cell_type": "code",
   "execution_count": 4,
   "metadata": {},
   "outputs": [],
   "source": [
    "from IPython.display import HTML, display\n",
    "\n",
    "# Decorative progress bar\n",
    "def progress(count, total, unit, message=''):\n",
    "    return HTML(\"\"\"\n",
    "        <progress \n",
    "            value='{count}'\n",
    "            max='{total}',\n",
    "            style='width: 30%'\n",
    "        >\n",
    "            {count}\n",
    "        </progress> {count}/{total} {unit} ({frac}%) ... {message}\n",
    "    \"\"\".format(count=count, total=total, unit=unit, frac=int(float(count)/float(total)*100.),message=message))"
   ]
  },
  {
   "cell_type": "code",
   "execution_count": 5,
   "metadata": {
    "scrolled": false
   },
   "outputs": [
    {
     "name": "stdout",
     "output_type": "stream",
     "text": [
      "Welcome to JupyROOT 6.16/00\n",
      "Initialized Pi0 mass chain, log path: pi0_chain_fiducialized_log.csv\n",
      "\n",
      "Config processed at: Linux nu-gpu02.slac.stanford.edu 3.10.0-1062.12.1.el7.x86_64 #1 SMP Tue Feb 4 23:02:59 UTC 2020 x86_64 x86_64 x86_64 GNU/Linux\n",
      "\n",
      "$CUDA_VISIBLE_DEVICES=\"None\"\n",
      "\n",
      "{   'iotool': {   'batch_size': 1,\n",
      "                  'collate_fn': 'CollateSparse',\n",
      "                  'dataset': {   'data_keys': [   '/u/nu/rberner/pi0_reconstruction/data/train.root'],\n",
      "                                 'limit_num_files': 1,\n",
      "                                 'name': 'LArCVDataset',\n",
      "                                 'schema': {   'cluster_label': [   'parse_cluster3d_full',\n",
      "                                                                    'cluster3d_pcluster',\n",
      "                                                                    'particle_corrected'],\n",
      "                                               'dbscan_label': [   'parse_cluster3d_clean_full',\n",
      "                                                                   'cluster3d_pcluster',\n",
      "                                                                   'particle_corrected',\n",
      "                                                                   'sparse3d_pcluster_semantics'],\n",
      "                                               'input_data': [   'parse_sparse3d_scn',\n",
      "                                                                 'sparse3d_pcluster'],\n",
      "                                               'particles': [   'parse_particle_asis',\n",
      "                                                                'particle_corrected',\n",
      "                                                                'cluster3d_pcluster'],\n",
      "                                               'particles_label': [   'parse_particle_points',\n",
      "                                                                      'sparse3d_pcluster',\n",
      "                                                                      'particle_corrected'],\n",
      "                                               'ppn_label': [   'parse_particle_points',\n",
      "                                                                'sparse3d_pcluster',\n",
      "                                                                'particle_corrected'],\n",
      "                                               'segment_label': [   'parse_sparse3d_scn',\n",
      "                                                                    'sparse3d_pcluster_semantics'],\n",
      "                                               'semantics': [   'parse_sparse3d_scn',\n",
      "                                                                'sparse3d_pcluster_semantics']}},\n",
      "                  'minibatch_size': 1,\n",
      "                  'num_workers': 1,\n",
      "                  'sampler': {   'name': 'RandomSequenceSampler',\n",
      "                                 'seed': 1586942435},\n",
      "                  'shuffle': False}}\n",
      "Loading file: /u/nu/rberner/pi0_reconstruction/data/train.root\n",
      "Loading tree sparse3d_pcluster\n",
      "Loading tree sparse3d_pcluster_semantics\n",
      "Loading tree cluster3d_pcluster\n",
      "Loading tree particle_corrected\n"
     ]
    },
    {
     "data": {
      "text/html": [
       "\n",
       "        <progress \n",
       "            value='10000'\n",
       "            max='10000',\n",
       "            style='width: 30%'\n",
       "        >\n",
       "            10000\n",
       "        </progress> 10000/10000 images (100%) ... \n",
       "    "
      ],
      "text/plain": [
       "<IPython.core.display.HTML object>"
      ]
     },
     "metadata": {},
     "output_type": "display_data"
    },
    {
     "name": "stderr",
     "output_type": "stream",
     "text": [
      "/u/nu/rberner/pi0_reconstruction/pi0_reco/pi0/cluster/cone_clusterer.py:156: RuntimeWarning: invalid value encountered in arccos\n",
      "  angle = np.median(np.arccos(cos))\n"
     ]
    },
    {
     "name": "stdout",
     "output_type": "stream",
     "text": [
      "RuntimeError\n"
     ]
    },
    {
     "name": "stderr",
     "output_type": "stream",
     "text": [
      "/u/nu/rberner/pi0_reconstruction/pi0_reco/pi0/cluster/cone_clusterer.py:156: RuntimeWarning: invalid value encountered in arccos\n",
      "  angle = np.median(np.arccos(cos))\n"
     ]
    }
   ],
   "source": [
    "# Initialize the chain\n",
    "from pi0.chain import Pi0Chain\n",
    "chain = Pi0Chain(io_cfg, chain_cfg)\n",
    "from larcv import larcv\n",
    "import numpy as np\n",
    "from numpy import linalg\n",
    "\n",
    "# Loop over the full dataset\n",
    "masses    = []\n",
    "i_draw    = 0\n",
    "n_draw    = 0\n",
    "data_size = 10000 # len(chain.hs.data_io)\n",
    "out       = display(progress(0,data_size,'images'),display_id=True)\n",
    "\n",
    "for ev in range(data_size):\n",
    "\n",
    "    #print(' ev: ', ev)\n",
    "    #print(' index: ', chain.event['index'][0])\n",
    "    \n",
    "    # pass if RuntimeError (likely, it is in fragment_merger.py: trace_tree function)\n",
    "    try:\n",
    "        chain.run_loop()\n",
    "    except RuntimeError:\n",
    "        print('RuntimeError')\n",
    "    except ValueError:\n",
    "        print('ValueError')\n",
    "    except IndexError:\n",
    "        print('IndexError')\n",
    "\n",
    "    # Draw the last event if requested\n",
    "    # Note: matches: if there are two reconstructed showers pointing to the same point AND this point close to a track\n",
    "    #if 'matches' in chain.output and len(chain.output['matches']) and i_draw < n_draw:\n",
    "    #    chain.draw()\n",
    "    #    i_draw += 1\n",
    "    \n",
    "    #draw_events = [0]\n",
    "    #if chain.event['index'][0] in draw_events:\n",
    "    #    chain.draw()\n",
    "\n",
    "    #chain.draw()\n",
    "\n",
    "    out.update(progress(ev,data_size,'images'))\n",
    "\n",
    "out.update(progress(data_size,data_size,'images'))\n",
    "\n",
    "# Simplest way to run the full chain\n",
    "#chain = Pi0Chain(io_cfg, chain_cfg)\n",
    "#chain.run()\n",
    "\n",
    "# Rename .csv file with masses in order to keep track of parameters\n",
    "name_old = chain_cfg['name']+'_log.csv'\n",
    "name_new = chain_cfg['name']+'_' + str(chain_cfg['fiducialize']) + 'px_' + str(data_size) + 'ev_log.csv'\n",
    "! mv $name_old $name_new"
   ]
  },
  {
   "cell_type": "code",
   "execution_count": 6,
   "metadata": {
    "scrolled": false
   },
   "outputs": [
    {
     "name": "stdout",
     "output_type": "stream",
     "text": [
      " Fitted parameters: \n",
      " a [-]: \t  3429.3545566351136  \n",
      " μ [MeV/c2]: \t  93.44195904901528  \n",
      " σ [MeV/c2]: \t  34.249466784539536\n"
     ]
    },
    {
     "data": {
      "text/plain": [
       "<Figure size 1080x720 with 0 Axes>"
      ]
     },
     "metadata": {},
     "output_type": "display_data"
    },
    {
     "data": {
      "image/png": "[encoded data removed]",
      "text/plain": [
       "<Figure size 1080x720 with 1 Axes>"
      ]
     },
     "metadata": {},
     "output_type": "display_data"
    }
   ],
   "source": [
    "import numpy as np\n",
    "import pandas as pd\n",
    "import seaborn\n",
    "from matplotlib import pyplot as plt\n",
    "\n",
    "seaborn.set(rc={'figure.figsize':(15, 10),})\n",
    "seaborn.set_context('talk') # or paper\n",
    "\n",
    "def gaus(x, a, mu, sigma):\n",
    "    return  a*np.exp(-(x-mu)**2/2./sigma**2)/np.sqrt(2./np.pi)/sigma\n",
    "\n",
    "def fit_func(bins, n, func):\n",
    "    from scipy.optimize import curve_fit\n",
    "    center = (bins[:-1] + bins[1:]) / 2\n",
    "    popt, pcov = curve_fit(func, center, n, p0=(100, 100, 10))\n",
    "    print(\" Fitted parameters: \\n a [-]: \\t \", popt[0],\n",
    "          \" \\n \\u03BC [MeV/c2]: \\t \", popt[1],\n",
    "          \" \\n \\u03C3 [MeV/c2]: \\t \", popt[2])\n",
    "\n",
    "    x = np.arange(0, 300, 1)\n",
    "    y = func(x, popt[0], popt[1], popt[2])\n",
    "    plt.plot(x, y, label='Fit: mass=%5.3f, width=%5.3f' % (popt[1], popt[2]))\n",
    "    plt.legend()\n",
    "\n",
    "# Load the output file, draw mass peak\n",
    "df = pd.read_csv(chain_cfg['name']+'_' + str(chain_cfg['fiducialize']) + 'px_' + str(data_size) + 'ev_log.csv')\n",
    "#df = pd.read_csv('pi0_chain.csv')\n",
    "plt.figure()\n",
    "fig, ax = plt.subplots()\n",
    "n, bins, patches = ax.hist(df.pion_mass, bins=60, range=[0,700], alpha=0.75)\n",
    "ax.set_xlabel('Invariant $\\pi^0$ mass [MeV/c$^2$]')\n",
    "\n",
    "# Fit the peak with a Gaussian\n",
    "fit_func(bins, n, gaus)\n",
    "fig_name = '04_fiducialized_' + str(chain_cfg['fiducialize']) + 'px_' + str(data_size) + 'ev.png'\n",
    "plt.savefig(fig_name,dpi=400)\n",
    "plt.show()\n",
    "\n",
    "# Print pion mass dataframe\n",
    "#print(df.to_string())"
   ]
  },
  {
   "cell_type": "markdown",
   "metadata": {
    "scrolled": true
   },
   "source": [
    "# Just some tests"
   ]
  },
  {
   "cell_type": "code",
   "execution_count": 7,
   "metadata": {},
   "outputs": [],
   "source": [
    "# The config files contain, e.g., 'particles', 'cluster_label', etc.\n",
    "\n",
    "# Get particle:\n",
    "particle = chain.event['particles'][0][0]\n",
    "#help(particle)\n",
    "\n",
    "cluster = chain.event['cluster_label'][0]\n",
    "#print(\"cluster: \", cluster)\n",
    "# to see what the entries of this array are, look up the information from the .cfg:\n",
    "      #cluster_label:\n",
    "      #  - parse_cluster3d_full\n",
    "      #  - cluster3d_pcluster\n",
    "      #  - particle_corrected\n",
    "# -> Need to have a look to 'parse_cluster3d_full, which lives in mlreco/iotools/parse_cluster3d_full'"
   ]
  },
  {
   "cell_type": "code",
   "execution_count": 8,
   "metadata": {},
   "outputs": [
    {
     "data": {
      "text/plain": [
       "dict_keys(['charge', 'segment', 'shower_mask', 'energy', 'showers', 'shower_fragments', 'leftover_energy', 'leftover_fragments', 'matches', 'vertices'])"
      ]
     },
     "execution_count": 8,
     "metadata": {},
     "output_type": "execute_result"
    }
   ],
   "source": [
    "chain.output.keys()"
   ]
  },
  {
   "cell_type": "code",
   "execution_count": 9,
   "metadata": {},
   "outputs": [
    {
     "data": {
      "text/plain": [
       "<pi0.chain.Shower at 0x7f9072b8d208>"
      ]
     },
     "execution_count": 9,
     "metadata": {},
     "output_type": "execute_result"
    }
   ],
   "source": [
    "chain.output['showers'][0]"
   ]
  },
  {
   "cell_type": "code",
   "execution_count": 10,
   "metadata": {
    "scrolled": true
   },
   "outputs": [
    {
     "name": "stdout",
     "output_type": "stream",
     "text": [
      "Help on Shower in module pi0.chain object:\n",
      "\n",
      "class Shower(builtins.object)\n",
      " |  # Class that contains all the shower information\n",
      " |  \n",
      " |  Methods defined here:\n",
      " |  \n",
      " |  __init__(self, start=[], direction=[], voxels=[], energy=-1.0, pid=-1)\n",
      " |      Initialize self.  See help(type(self)) for accurate signature.\n",
      " |  \n",
      " |  ----------------------------------------------------------------------\n",
      " |  Data descriptors defined here:\n",
      " |  \n",
      " |  __dict__\n",
      " |      dictionary for instance variables (if defined)\n",
      " |  \n",
      " |  __weakref__\n",
      " |      list of weak references to the object (if defined)\n",
      "\n"
     ]
    }
   ],
   "source": [
    "shower = chain.output['showers'][0]\n",
    "help(shower)"
   ]
  },
  {
   "cell_type": "code",
   "execution_count": 11,
   "metadata": {
    "scrolled": true
   },
   "outputs": [
    {
     "name": "stdout",
     "output_type": "stream",
     "text": [
      "Help on Vertex in module larcv object:\n",
      "\n",
      "class Vertex(ROOT.ObjectProxy)\n",
      " |  PyROOT object proxy (internal)\n",
      " |  \n",
      " |  Method resolution order:\n",
      " |      Vertex\n",
      " |      ROOT.ObjectProxy\n",
      " |      builtins.object\n",
      " |  \n",
      " |  Methods defined here:\n",
      " |  \n",
      " |  __assign__ = <ROOT.MethodProxy object>\n",
      " |  __cpp_eq__ = <ROOT.MethodProxy object>\n",
      " |  __cpp_ne__ = <ROOT.MethodProxy object>\n",
      " |  __eq__(...) from builtins.NoneType\n",
      " |      PyROOT custom instance method (internal)\n",
      " |  \n",
      " |  __init__ = <ROOT.MethodProxy object>\n",
      " |  __lt__ = <ROOT.MethodProxy object>\n",
      " |  __ne__(...) from builtins.NoneType\n",
      " |      PyROOT custom instance method (internal)\n",
      " |  \n",
      " |  __str__(...) from builtins.NoneType\n",
      " |      PyROOT custom instance method (internal)\n",
      " |  \n",
      " |  as_point = <ROOT.MethodProxy object>\n",
      " |  as_point2d = <ROOT.MethodProxy object>\n",
      " |  as_point3d = <ROOT.MethodProxy object>\n",
      " |  dump = <ROOT.MethodProxy object>\n",
      " |  reset = <ROOT.MethodProxy object>\n",
      " |  t = <ROOT.MethodProxy object>\n",
      " |  x = <ROOT.MethodProxy object>\n",
      " |  y = <ROOT.MethodProxy object>\n",
      " |  z = <ROOT.MethodProxy object>\n",
      " |  ----------------------------------------------------------------------\n",
      " |  Data descriptors defined here:\n",
      " |  \n",
      " |  __dict__\n",
      " |      dictionary for instance variables (if defined)\n",
      " |  \n",
      " |  __weakref__\n",
      " |      list of weak references to the object (if defined)\n",
      " |  \n",
      " |  ----------------------------------------------------------------------\n",
      " |  Data and other attributes defined here:\n",
      " |  \n",
      " |  __cppname__ = 'larcv::Vertex'\n",
      " |  \n",
      " |  __scope__ = 'larcv'\n",
      " |  \n",
      " |  ----------------------------------------------------------------------\n",
      " |  Methods inherited from ROOT.ObjectProxy:\n",
      " |  \n",
      " |  __add__(self, value, /)\n",
      " |      Return self+value.\n",
      " |  \n",
      " |  __bool__(...)\n",
      " |  \n",
      " |  __destruct__(...)\n",
      " |  \n",
      " |  __dispatch__(...)\n",
      " |      dispatch to selected overload\n",
      " |  \n",
      " |  __ge__(self, value, /)\n",
      " |      Return self>=value.\n",
      " |  \n",
      " |  __gt__(self, value, /)\n",
      " |      Return self>value.\n",
      " |  \n",
      " |  __hash__(self, /)\n",
      " |      Return hash(self).\n",
      " |  \n",
      " |  __le__(self, value, /)\n",
      " |      Return self<=value.\n",
      " |  \n",
      " |  __mul__(self, value, /)\n",
      " |      Return self*value.\n",
      " |  \n",
      " |  __new__(*args, **kwargs) from ROOT.PyRootType\n",
      " |      Create and return a new object.  See help(type) for accurate signature.\n",
      " |  \n",
      " |  __nonzero__(...)\n",
      " |  \n",
      " |  __radd__(self, value, /)\n",
      " |      Return value+self.\n",
      " |  \n",
      " |  __reduce__(...)\n",
      " |      helper for pickle\n",
      " |  \n",
      " |  __repr__(self, /)\n",
      " |      Return repr(self).\n",
      " |  \n",
      " |  __rmul__(self, value, /)\n",
      " |      Return value*self.\n",
      " |  \n",
      " |  __rsub__(self, value, /)\n",
      " |      Return value-self.\n",
      " |  \n",
      " |  __rtruediv__(self, value, /)\n",
      " |      Return value/self.\n",
      " |  \n",
      " |  __sub__(self, value, /)\n",
      " |      Return self-value.\n",
      " |  \n",
      " |  __truediv__(self, value, /)\n",
      " |      Return self/value.\n",
      "\n"
     ]
    }
   ],
   "source": [
    "particle = 0\n",
    "help(chain.event['particles'][0][particle].first_step())"
   ]
  },
  {
   "cell_type": "code",
   "execution_count": 12,
   "metadata": {},
   "outputs": [
    {
     "name": "stdout",
     "output_type": "stream",
     "text": [
      "cat: /home/rberner/cernbox/PhD/pi0_reconstruction/reco_software/config_files/uresnet_ppn.cfg: No such file or directory\r\n"
     ]
    }
   ],
   "source": [
    "! cat /home/rberner/cernbox/PhD/pi0_reconstruction/reco_software/config_files/uresnet_ppn.cfg"
   ]
  },
  {
   "cell_type": "code",
   "execution_count": 13,
   "metadata": {
    "scrolled": false
   },
   "outputs": [
    {
     "name": "stdout",
     "output_type": "stream",
     "text": [
      "cat: /home/rberner/cernbox/PhD/pi0_reconstruction/reco_software/pi0_reco/pi0/chain.py: No such file or directory\r\n"
     ]
    }
   ],
   "source": [
    "! cat /home/rberner/cernbox/PhD/pi0_reconstruction/reco_software/pi0_reco/pi0/chain.py"
   ]
  }
 ],
 "metadata": {
  "kernelspec": {
   "display_name": "Python 3",
   "language": "python",
   "name": "python3"
  },
  "language_info": {
   "codemirror_mode": {
    "name": "ipython",
    "version": 3
   },
   "file_extension": ".py",
   "mimetype": "text/x-python",
   "name": "python",
   "nbconvert_exporter": "python",
   "pygments_lexer": "ipython3",
   "version": "3.6.9"
  }
 },
 "nbformat": 4,
 "nbformat_minor": 2
}
