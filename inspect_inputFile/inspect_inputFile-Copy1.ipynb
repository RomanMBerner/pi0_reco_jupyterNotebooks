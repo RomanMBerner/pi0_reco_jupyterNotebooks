{
 "cells": [
  {
   "cell_type": "markdown",
   "metadata": {},
   "source": [
    "# This notebook is used to inspect an input file\n",
    "e.g. to figure out the number of primary neutral pions, etc."
   ]
  },
  {
   "cell_type": "code",
   "execution_count": 1,
   "metadata": {},
   "outputs": [],
   "source": [
    "import sys\n",
    "sys.path.append(\"../../lartpc_mlreco3d\")                                                          # JupyterLab\n",
    "sys.path.append(\"../../pi0_reco\")                                                                 # JupyterLab"
   ]
  },
  {
   "cell_type": "code",
   "execution_count": 2,
   "metadata": {},
   "outputs": [],
   "source": [
    "io_cfg = '''\n",
    "iotool:\n",
    "  batch_size: 1\n",
    "  shuffle: False\n",
    "  num_workers: 4\n",
    "  collate_fn: CollateSparse\n",
    "  dataset:\n",
    "    name: LArCVDataset\n",
    "    data_keys:\n",
    "      #- ../../data/test.root\n",
    "      #- ../../data/pi0_dunend_v1_p00.root\n",
    "      - ../../data/pi0_dunend_v2_p00.root\n",
    "    limit_num_files: 1\n",
    "    schema:\n",
    "      input_data:\n",
    "        - parse_sparse3d_scn\n",
    "        - sparse3d_pcluster\n",
    "      segment_label:\n",
    "        - parse_sparse3d_scn\n",
    "        - sparse3d_pcluster_semantics\n",
    "      semantics:\n",
    "        - parse_sparse3d_scn\n",
    "        - sparse3d_pcluster_semantics\n",
    "      dbscan_label:\n",
    "        - parse_cluster3d_clean_full\n",
    "        - cluster3d_pcluster\n",
    "        - particle_corrected\n",
    "        - sparse3d_pcluster_semantics\n",
    "      particles_label:\n",
    "        - parse_particle_points\n",
    "        - sparse3d_pcluster\n",
    "        - particle_corrected\n",
    "      particles:\n",
    "        - parse_particle_asis\n",
    "        - particle_corrected\n",
    "        - cluster3d_pcluster\n",
    "      cluster_label:\n",
    "        - parse_cluster3d_full\n",
    "        - cluster3d_pcluster\n",
    "        - particle_corrected\n",
    "'''\n",
    "\n",
    "# Convert the string to a dictionary\n",
    "#import yaml\n",
    "#cfg = yaml.load(cfg,Loader=yaml.Loader)\n",
    "\n",
    "# Pre-process configuration\n",
    "#from mlreco.main_funcs import process_config\n",
    "#process_config(cfg)"
   ]
  },
  {
   "cell_type": "code",
   "execution_count": 3,
   "metadata": {},
   "outputs": [],
   "source": [
    "from mlreco.main_funcs import prepare, apply_event_filter\n",
    "from mlreco.utils.gnn.evaluation import node_assignment, node_assignment_bipartite, edge_assignment_score, clustering_metrics, node_assignment_score"
   ]
  },
  {
   "cell_type": "code",
   "execution_count": 4,
   "metadata": {},
   "outputs": [],
   "source": [
    "# Configuration of the reconstruction chain\n",
    "chain_cfg = '''\n",
    "name: pi0_chain_fiducialized\n",
    "#net_cfg: ../../config_files/fullChain_gnn_dbscan_gpu0.cfg           # for the lartpc_mlreco3d/cnn_clustering branch\n",
    "net_cfg: ../../config_files/train_cluster_chain_gnn_dbscan_new.cfg   # for the lartpc_mlreco3d/full_chain branch\n",
    "segment:                   uresnet                     # label, uresnet\n",
    "deghost:                   label                       # label, uresnet\n",
    "charge2energy:                                         # null, constant, average(, full, enet)\n",
    "charge2energy_cst:         0.0082                      # energy response constant (0.0082 for mask, 0.0052 for uresnet)\n",
    "charge2energy_average:     0.877                       # energy response average (1.3693 for mask, 0.877 for uresnet)\n",
    "shower_start:              ppn                         # label, gnn, ppn (if using gnn -> use segment: uresnet)\n",
    "shower_fragment:           gnn                         # label, dbscan, gnn\n",
    "shower_direction:          pca                         # label, pca, cent\n",
    "shower_cluster:            gnn                         # label, cone, gnn\n",
    "shower_cluster_params:\n",
    "  IP: 40\n",
    "  Distance: 300\n",
    "shower_energy:             pixel_sum                   # label, pixel_sum\n",
    "shower_match:              ppn                         # label, proximity, ppn\n",
    "refit_dir:                 true                        # true, false\n",
    "refit_cone:                true                        # true, false\n",
    "fiducialize:               14                          # Number of pixels to be removed from edge of LAr volume (pixel pitch: 3mm)\n",
    "PPN_score_thresh:          [0.5, 0.5, 0.5, 0.5, 0.5]   # For PPN predictions to be classified as shower, track, michel, delta or LEScatter, respectively\n",
    "analyse_true:              True                        # Whether the analyser module for (simulated) true data is used or not\n",
    "analyse_reco:              True                        # Whether the analyser module for (simulated or real) reco data is used or not\n",
    "'''\n",
    "import yaml\n",
    "chain_cfg = yaml.load(chain_cfg,Loader=yaml.Loader)"
   ]
  },
  {
   "cell_type": "code",
   "execution_count": 5,
   "metadata": {},
   "outputs": [],
   "source": [
    "# Progress bar\n",
    "from IPython.display import HTML, display\n",
    "def progress(count, total, unit, message=''):\n",
    "    return HTML(\"\"\"\n",
    "        <progress \n",
    "            value='{count}'\n",
    "            max='{total}',\n",
    "            style='width: 30%'\n",
    "        >\n",
    "            {count}\n",
    "        </progress> {count}/{total} {unit} ({frac}%) ... {message}\n",
    "    \"\"\".format(count=count, total=total, unit=unit, frac=int(float(count)/float(total)*100.),message=message))"
   ]
  },
  {
   "cell_type": "code",
   "execution_count": 6,
   "metadata": {},
   "outputs": [
    {
     "name": "stdout",
     "output_type": "stream",
     "text": [
      "Welcome to JupyROOT 6.16/00\n"
     ]
    }
   ],
   "source": [
    "# Some imports\n",
    "import numpy as np\n",
    "from larcv import larcv\n",
    "from numpy import linalg"
   ]
  },
  {
   "cell_type": "code",
   "execution_count": 7,
   "metadata": {},
   "outputs": [
    {
     "name": "stdout",
     "output_type": "stream",
     "text": [
      "Initialized Pi0 mass chain, log path: masses_fiducialized_14px.csv\n",
      "\n",
      "Config processed at: Linux tur001 3.10.0-1127.13.1.el7.x86_64 #1 SMP Tue Jun 23 15:46:38 UTC 2020 x86_64 x86_64 x86_64 GNU/Linux\n",
      "\n",
      "$CUDA_VISIBLE_DEVICES=\"0\"\n",
      "\n",
      "{   'iotool': {   'batch_size': 1,\n",
      "                  'collate_fn': 'CollateSparse',\n",
      "                  'dataset': {   'data_keys': [   '../../data/pi0_dunend_v2_p00.root'],\n",
      "                                 'limit_num_files': 1,\n",
      "                                 'name': 'LArCVDataset',\n",
      "                                 'schema': {   'cluster_label': [   'parse_cluster3d_full',\n",
      "                                                                    'cluster3d_pcluster',\n",
      "                                                                    'particle_corrected'],\n",
      "                                               'dbscan_label': [   'parse_cluster3d_clean_full',\n",
      "                                                                   'cluster3d_pcluster',\n",
      "                                                                   'particle_corrected',\n",
      "                                                                   'sparse3d_pcluster_semantics'],\n",
      "                                               'input_data': [   'parse_sparse3d_scn',\n",
      "                                                                 'sparse3d_pcluster'],\n",
      "                                               'particles': [   'parse_particle_asis',\n",
      "                                                                'particle_corrected',\n",
      "                                                                'cluster3d_pcluster'],\n",
      "                                               'particles_label': [   'parse_particle_points',\n",
      "                                                                      'sparse3d_pcluster',\n",
      "                                                                      'particle_corrected'],\n",
      "                                               'segment_label': [   'parse_sparse3d_scn',\n",
      "                                                                    'sparse3d_pcluster_semantics'],\n",
      "                                               'semantics': [   'parse_sparse3d_scn',\n",
      "                                                                'sparse3d_pcluster_semantics']}},\n",
      "                  'minibatch_size': 1,\n",
      "                  'num_workers': 4,\n",
      "                  'shuffle': False},\n",
      "    'model': {   'loss_input': ['semantics', 'particles_label', 'dbscan_label'],\n",
      "                 'modules': {   'chain': {   'balance_classes': False,\n",
      "                                             'group_pred': 'score',\n",
      "                                             'high_purity': True,\n",
      "                                             'loss': 'CE',\n",
      "                                             'node_min_size': 10,\n",
      "                                             'node_type': 0,\n",
      "                                             'reduction': 'sum',\n",
      "                                             'shower_class': 0,\n",
      "                                             'start_dir_max_dist': 5,\n",
      "                                             'start_dir_opt': False,\n",
      "                                             'target': 'group'},\n",
      "                                'dbscan': {   'data_dim': 3,\n",
      "                                              'epsilon': 1.999,\n",
      "                                              'minPoints': 1,\n",
      "                                              'num_classes': 1},\n",
      "                                'edge_encoder': {   'name': 'geo',\n",
      "                                                    'use_numpy': True},\n",
      "                                'edge_model': {   'aggr': 'add',\n",
      "                                                  'edge_classes': 2,\n",
      "                                                  'edge_feats': 19,\n",
      "                                                  'edge_output_feats': 64,\n",
      "                                                  'leakiness': 0.1,\n",
      "                                                  'model_path': '',\n",
      "                                                  'name': 'modular_meta',\n",
      "                                                  'node_classes': 2,\n",
      "                                                  'node_feats': 24,\n",
      "                                                  'node_output_feats': 64,\n",
      "                                                  'num_mp': 3},\n",
      "                                'node_encoder': {   'name': 'geo',\n",
      "                                                    'use_numpy': True},\n",
      "                                'ppn': {   'data_dim': 3,\n",
      "                                           'downsample_ghost': False,\n",
      "                                           'filters': 16,\n",
      "                                           'freeze_weights': False,\n",
      "                                           'model_path': '',\n",
      "                                           'num_classes': 5,\n",
      "                                           'num_strides': 6,\n",
      "                                           'ppn1_size': 24,\n",
      "                                           'ppn2_size': 96,\n",
      "                                           'ppn_num_conv': 1,\n",
      "                                           'score_threshold': 0.5,\n",
      "                                           'spatial_size': 768,\n",
      "                                           'use_encoding': False},\n",
      "                                'uresnet_lonely': {   'data_dim': 3,\n",
      "                                                      'features': 1,\n",
      "                                                      'filters': 16,\n",
      "                                                      'freeze_weights': False,\n",
      "                                                      'ghost': False,\n",
      "                                                      'model_path': '',\n",
      "                                                      'num_classes': 5,\n",
      "                                                      'num_strides': 6,\n",
      "                                                      'spatial_size': 768}},\n",
      "                 'name': 'cluster_dbscan_gnn',\n",
      "                 'network_input': ['input_data']},\n",
      "    'trainval': {   'checkpoint_step': 500,\n",
      "                    'concat_result': [   'shower_fragments',\n",
      "                                         'edge_index',\n",
      "                                         'node_edge_index',\n",
      "                                         'group_ids',\n",
      "                                         'edge_pred',\n",
      "                                         'node_pred'],\n",
      "                    'debug': False,\n",
      "                    'gpus': [0],\n",
      "                    'iterations': 350000,\n",
      "                    'learning_rate': 0.001,\n",
      "                    'log_dir': 'logs/cluster_chain_gnn/baseline',\n",
      "                    'model_path': '../../ckpt_files/cluster_chain_gnn/baseline/snapshot-279999.ckpt',\n",
      "                    'report_step': 1,\n",
      "                    'seed': 0,\n",
      "                    'train': False,\n",
      "                    'unwrapper': 'unwrap_3d_scn',\n",
      "                    'weight_prefix': 'weights/cluster_chain_gnn/baseline/snapshot'}}\n",
      "Loading file: ../../data/pi0_dunend_v2_p00.root\n",
      "Loading tree sparse3d_pcluster\n",
      "Loading tree sparse3d_pcluster_semantics\n",
      "Loading tree cluster3d_pcluster\n",
      "Loading tree particle_corrected\n",
      "Restoring weights for  from ../../ckpt_files/cluster_chain_gnn/baseline/snapshot-279999.ckpt...\n",
      "Done.\n"
     ]
    }
   ],
   "source": [
    "# Initialize the chain\n",
    "from pi0.chain import Pi0Chain\n",
    "chain = Pi0Chain(io_cfg, chain_cfg)"
   ]
  },
  {
   "cell_type": "code",
   "execution_count": 8,
   "metadata": {},
   "outputs": [],
   "source": [
    "#print(chain.data_set.dataset.data_keys())"
   ]
  },
  {
   "cell_type": "code",
   "execution_count": 9,
   "metadata": {},
   "outputs": [
    {
     "data": {
      "text/html": [
       "\n",
       "        <progress \n",
       "            value='4000'\n",
       "            max='4000',\n",
       "            style='width: 30%'\n",
       "        >\n",
       "            4000\n",
       "        </progress> 4000/4000 images (100%) ... \n",
       "    "
      ],
      "text/plain": [
       "<IPython.core.display.HTML object>"
      ]
     },
     "metadata": {},
     "output_type": "display_data"
    },
    {
     "name": "stderr",
     "output_type": "stream",
     "text": [
      "../../pi0_reco/pi0/identification/PID.py:66: RuntimeWarning: invalid value encountered in double_scalars\n",
      "  sh.L_e = e_likelihood / (e_likelihood + p_likelihood)\n",
      "../../pi0_reco/pi0/identification/PID.py:67: RuntimeWarning: invalid value encountered in double_scalars\n",
      "  sh.L_p = p_likelihood / (e_likelihood + p_likelihood)\n",
      "../../pi0_reco/pi0/identification/PID.py:66: RuntimeWarning: invalid value encountered in double_scalars\n",
      "  sh.L_e = e_likelihood / (e_likelihood + p_likelihood)\n",
      "../../pi0_reco/pi0/identification/PID.py:67: RuntimeWarning: invalid value encountered in double_scalars\n",
      "  sh.L_p = p_likelihood / (e_likelihood + p_likelihood)\n"
     ]
    },
    {
     "name": "stdout",
     "output_type": "stream",
     "text": [
      " Shower has no physical edep [event: 1050 ]\n"
     ]
    },
    {
     "name": "stderr",
     "output_type": "stream",
     "text": [
      "../../pi0_reco/pi0/identification/PID.py:66: RuntimeWarning: invalid value encountered in double_scalars\n",
      "  sh.L_e = e_likelihood / (e_likelihood + p_likelihood)\n",
      "../../pi0_reco/pi0/identification/PID.py:67: RuntimeWarning: invalid value encountered in double_scalars\n",
      "  sh.L_p = p_likelihood / (e_likelihood + p_likelihood)\n",
      "../../pi0_reco/pi0/identification/PID.py:66: RuntimeWarning: invalid value encountered in double_scalars\n",
      "  sh.L_e = e_likelihood / (e_likelihood + p_likelihood)\n",
      "../../pi0_reco/pi0/identification/PID.py:67: RuntimeWarning: invalid value encountered in double_scalars\n",
      "  sh.L_p = p_likelihood / (e_likelihood + p_likelihood)\n",
      "../../pi0_reco/pi0/identification/PID.py:66: RuntimeWarning: invalid value encountered in double_scalars\n",
      "  sh.L_e = e_likelihood / (e_likelihood + p_likelihood)\n",
      "../../pi0_reco/pi0/identification/PID.py:67: RuntimeWarning: invalid value encountered in double_scalars\n",
      "  sh.L_p = p_likelihood / (e_likelihood + p_likelihood)\n"
     ]
    },
    {
     "name": "stdout",
     "output_type": "stream",
     "text": [
      " Shower has no physical edep [event: 2173 ]\n"
     ]
    },
    {
     "name": "stderr",
     "output_type": "stream",
     "text": [
      "../../pi0_reco/pi0/identification/PID.py:66: RuntimeWarning: invalid value encountered in double_scalars\n",
      "  sh.L_e = e_likelihood / (e_likelihood + p_likelihood)\n",
      "../../pi0_reco/pi0/identification/PID.py:67: RuntimeWarning: invalid value encountered in double_scalars\n",
      "  sh.L_p = p_likelihood / (e_likelihood + p_likelihood)\n",
      "../../pi0_reco/pi0/identification/PID.py:66: RuntimeWarning: invalid value encountered in double_scalars\n",
      "  sh.L_e = e_likelihood / (e_likelihood + p_likelihood)\n",
      "../../pi0_reco/pi0/identification/PID.py:67: RuntimeWarning: invalid value encountered in double_scalars\n",
      "  sh.L_p = p_likelihood / (e_likelihood + p_likelihood)\n",
      "../../pi0_reco/pi0/identification/PID.py:66: RuntimeWarning: invalid value encountered in double_scalars\n",
      "  sh.L_e = e_likelihood / (e_likelihood + p_likelihood)\n",
      "../../pi0_reco/pi0/identification/PID.py:67: RuntimeWarning: invalid value encountered in double_scalars\n",
      "  sh.L_p = p_likelihood / (e_likelihood + p_likelihood)\n"
     ]
    },
    {
     "name": "stdout",
     "output_type": "stream",
     "text": [
      " Shower has no physical edep [event: 3272 ]\n"
     ]
    },
    {
     "name": "stderr",
     "output_type": "stream",
     "text": [
      "../../pi0_reco/pi0/identification/PID.py:66: RuntimeWarning: invalid value encountered in double_scalars\n",
      "  sh.L_e = e_likelihood / (e_likelihood + p_likelihood)\n",
      "../../pi0_reco/pi0/identification/PID.py:67: RuntimeWarning: invalid value encountered in double_scalars\n",
      "  sh.L_p = p_likelihood / (e_likelihood + p_likelihood)\n",
      "../../pi0_reco/pi0/identification/PID.py:66: RuntimeWarning: invalid value encountered in double_scalars\n",
      "  sh.L_e = e_likelihood / (e_likelihood + p_likelihood)\n",
      "../../pi0_reco/pi0/identification/PID.py:67: RuntimeWarning: invalid value encountered in double_scalars\n",
      "  sh.L_p = p_likelihood / (e_likelihood + p_likelihood)\n",
      "../../pi0_reco/pi0/identification/PID.py:66: RuntimeWarning: invalid value encountered in double_scalars\n",
      "  sh.L_e = e_likelihood / (e_likelihood + p_likelihood)\n",
      "../../pi0_reco/pi0/identification/PID.py:67: RuntimeWarning: invalid value encountered in double_scalars\n",
      "  sh.L_p = p_likelihood / (e_likelihood + p_likelihood)\n"
     ]
    },
    {
     "name": "stdout",
     "output_type": "stream",
     "text": [
      " WARNING: direction of shower 1 not allocated... \n",
      " WARNING: direction of shower 1 not allocated... \n"
     ]
    },
    {
     "name": "stderr",
     "output_type": "stream",
     "text": [
      "../../pi0_reco/pi0/identification/PID.py:66: RuntimeWarning: invalid value encountered in double_scalars\n",
      "  sh.L_e = e_likelihood / (e_likelihood + p_likelihood)\n",
      "../../pi0_reco/pi0/identification/PID.py:67: RuntimeWarning: invalid value encountered in double_scalars\n",
      "  sh.L_p = p_likelihood / (e_likelihood + p_likelihood)\n"
     ]
    },
    {
     "name": "stdout",
     "output_type": "stream",
     "text": [
      "Done.\n"
     ]
    }
   ],
   "source": [
    "# Loop over dataset\n",
    "data_size  = 4000 #len(chain.hs.data_io)\n",
    "\n",
    "n_true_pi0 = []\n",
    "n_reco_pi0 = []\n",
    "\n",
    "out = display(progress(0,data_size,'images'),display_id=True)\n",
    "for event in range(data_size):\n",
    "    chain.run_loop()\n",
    "    \n",
    "    n_true_pi0.append(chain.true_info['n_pi0'])\n",
    "    n_reco_pi0.append(chain.reco_info['n_pi0'])\n",
    "    \n",
    "    assert chain.true_info['ev_id']            == chain.event['index']\n",
    "    \n",
    "    print_info = False\n",
    "    if print_info:\n",
    "        print(' True quantities: ')\n",
    "        print(' ------------------------------------ ')\n",
    "        print(' Event ID: ', chain.true_info['ev_id'])\n",
    "        print(' N pi0:    ', chain.true_info['n_pi0'])\n",
    "        print(' N gamma:  ', chain.true_info['n_gammas'])\n",
    "        print(' ... :     ', chain.true_info['pi0_track_ids'])\n",
    "        print(' ... :     ', chain.true_info['gamma_group_ids'])\n",
    "        print(' ... :     ', chain.true_info['shower_particle_ids'])\n",
    "        print(' ... :     ', chain.true_info['gamma_ids_making_compton_scat'])\n",
    "        print(' ... :     ', chain.true_info['pi0_ekin'])\n",
    "        print(' ... :     ', chain.true_info['gamma_pos'])\n",
    "        print(' ... :     ', chain.true_info['gamma_dir'])\n",
    "        print(' ... :     ', chain.true_info['gamma_mom'])\n",
    "        print(' ... :     ', chain.true_info['gamma_ekin'])\n",
    "        print(' ... :     ', chain.true_info['gamma_edep'])\n",
    "        print(' ... :     ', chain.true_info['gamma_voxels'])\n",
    "        print(' ... :     ', chain.true_info['gamma_n_voxels'])\n",
    "        print(' ... :     ', chain.true_info['gamma_first_step'])\n",
    "        print(' ... :     ', chain.true_info['compton_electron_first_step'])\n",
    "        print(' ... :     ', chain.true_info['shower_first_edep'])\n",
    "        print(' ... :     ', chain.true_info['OOFV'])\n",
    "        print(' ... :     ', chain.true_info['gamma_angle']) # [rad]\n",
    "        print(' ... :     ', chain.true_info['pi0_mass'])\n",
    "\n",
    "        print(' Reconstructed quantities: ')\n",
    "        print(' ------------------------------------ ')\n",
    "        print(' N pi0:    ', chain.reco_info['n_pi0'])\n",
    "        print(' N gamma : ', chain.reco_info['n_gammas'])\n",
    "        print(' ... :     ', chain.reco_info['matches'])\n",
    "        print(' ... :     ', chain.reco_info['gamma_mom'])\n",
    "        print(' ... :     ', chain.reco_info['gamma_dir'])\n",
    "        print(' ... :     ', chain.reco_info['gamma_start'])\n",
    "        print(' ... :     ', chain.reco_info['gamma_edep'])\n",
    "        print(' ... :     ', chain.reco_info['gamma_pid'])\n",
    "        print(' ... :     ', chain.reco_info['gamma_voxels_mask'])\n",
    "        print(' ... :     ', chain.reco_info['gamma_n_voxels_mask'])\n",
    "        print(' ... :     ', chain.reco_info['gamma_voxels'])\n",
    "        print(' ... :     ', chain.reco_info['gamma_n_voxels'])\n",
    "        print(' ... :     ', chain.reco_info['OOFV'])\n",
    "        print(' ... :     ', chain.reco_info['gamma_angle']) # [rad]\n",
    "        print(' ... :     ', chain.reco_info['pi0_mass'])\n",
    "\n",
    "        print(' Reconstructed showers: ')\n",
    "        print(' ------------------------------------ ')\n",
    "        for i, shower in enumerate(chain.output['showers']):\n",
    "            print(' shower start:  ', shower.start)\n",
    "            print(' shower dir:    ', shower.direction)\n",
    "            print(' shower voxels: ', shower.voxels)\n",
    "            print(' shower energy: ', shower.energy)\n",
    "    \n",
    "    # Update progress bar\n",
    "    out.update(progress(event,data_size,'images'))\n",
    "out.update(progress(data_size,data_size,'images'))\n",
    "\n",
    "print('Done.')"
   ]
  },
  {
   "cell_type": "code",
   "execution_count": 10,
   "metadata": {},
   "outputs": [
    {
     "name": "stdout",
     "output_type": "stream",
     "text": [
      " Number of events with == 0 true pi0:  2035  \t ( 50.875 % )\n",
      " Number of events with == 1 true pi0:  1895  \t ( 47.375 % )\n",
      " Number of events with == 2 true pi0:  68  \t ( 1.7000000000000002 % )\n"
     ]
    }
   ],
   "source": [
    "print(' Number of events with == 0 true pi0: ', len([i for i in n_true_pi0 if i==0]), ' \\t (', len([i for i in n_true_pi0 if i==0])/len(n_true_pi0)*100, '% )')\n",
    "print(' Number of events with == 1 true pi0: ', len([i for i in n_true_pi0 if i==1]), ' \\t (', len([i for i in n_true_pi0 if i==1])/len(n_true_pi0)*100, '% )')\n",
    "print(' Number of events with == 2 true pi0: ', len([i for i in n_true_pi0 if i==2]), ' \\t (', len([i for i in n_true_pi0 if i==2])/len(n_true_pi0)*100, '% )')"
   ]
  },
  {
   "cell_type": "code",
   "execution_count": 11,
   "metadata": {},
   "outputs": [
    {
     "data": {
      "image/png": "[encoded data removed]",
      "text/plain": [
       "<Figure size 1080x720 with 1 Axes>"
      ]
     },
     "metadata": {},
     "output_type": "display_data"
    }
   ],
   "source": [
    "import pandas as pd\n",
    "import seaborn\n",
    "from matplotlib import pyplot as plt\n",
    "\n",
    "seaborn.set(rc={'figure.figsize':(15, 10),})\n",
    "seaborn.set_context('talk') # or paper\n",
    "\n",
    "# Define histogram range and binning\n",
    "x_min    = -0.5\n",
    "x_max    = 5.5\n",
    "n_bins_x = 5\n",
    "x_bins = np.linspace(x_min,x_max,n_bins_x+1)\n",
    "\n",
    "# Define parameters of the frame\n",
    "fig = plt.figure() # plt.figure(figsize=(width,height))\n",
    "#fig.patch.set_facecolor('white')\n",
    "#fig.patch.set_alpha(0.0)\n",
    "ax = fig.add_subplot(111)\n",
    "#ax.patch.set_facecolor('#ababab') # #ababab\n",
    "ax.patch.set_alpha(0.0)\n",
    "ax.spines['bottom'].set_color('0.5') #'black', ...\n",
    "ax.spines['bottom'].set_linewidth(2)\n",
    "ax.spines['bottom'].set_visible(True)\n",
    "ax.spines['top'].set_color('0.5')\n",
    "ax.spines['top'].set_linewidth(2)\n",
    "ax.spines['top'].set_visible(True)\n",
    "ax.spines['right'].set_color('0.5')\n",
    "ax.spines['right'].set_linewidth(2)\n",
    "ax.spines['right'].set_visible(True)\n",
    "ax.spines['left'].set_color('0.5')\n",
    "ax.spines['left'].set_linewidth(2)\n",
    "ax.spines['left'].set_visible(True)\n",
    "\n",
    "# Ticks, grid and ticks labels\n",
    "ax.tick_params(direction='in', length=10, width=2,                  # direction, length and width of the ticks (in, out, inout)\n",
    "                colors='0.5',                                       # color of the ticks ('black', '0.5')\n",
    "                bottom=True, top=True, right=True, left=True,       # whether to draw the respective ticks\n",
    "                zorder = 10.,                                       # tick and label zorder\n",
    "                pad = 10.,                                          # distance between ticks and tick labels\n",
    "                labelsize = 17,                                     # size of the tick labels\n",
    "                labelright=False, labeltop=False)                   # wether to draw the tick labels on axes\n",
    "                #labelrotation=45.                                  # rotation of the labels\n",
    "                #grid_color='black',                                # grid\n",
    "                #grid_alpha=0.0,\n",
    "                #grid_linewidth=1.0,\n",
    "# colors='black','0.5'\n",
    "\n",
    "# Plot n_edeps\n",
    "n0, bins0, patches0 = plt.hist(n_true_pi0, label='True', bins=n_bins_x, range=[x_min,x_max], histtype='stepfilled', stacked=False, linewidth=3, alpha=0.5)\n",
    "n1, bins1, patches1 = plt.hist(n_reco_pi0, label='Reco', bins=n_bins_x, range=[x_min,x_max], histtype='step',       stacked=False, linewidth=3, alpha=0.5)\n",
    "\n",
    "# Legend\n",
    "plt.legend(loc=[0.55,0.7], prop={'size': 17}) # loc='upper right'\n",
    "\n",
    "# Axis labels\n",
    "plt.xlabel('Number of $\\pi^0$ per Event', fontsize=20, labelpad=20)\n",
    "plt.ylabel('Entries [-]', fontsize=20, labelpad=20)\n",
    "\n",
    "#plt.ylim(bottom=0, top=200)\n",
    "#plt.yscale('log') # linear, log\n",
    "#plt.yscale('symlog', linthreshy=1)\n",
    "#plt.axvline(134.9770, color='r', linestyle='dashed', linewidth=2, label='Literature value for $\\pi^0$ mass')\n",
    "\n",
    "# Save figure\n",
    "fig_name = 'N_pi0_in_file_pi0_dunend_v2_p00.png'\n",
    "#fig_name = 'pi0_mass_02_' +\\\n",
    "#            str(data_size) + 'ev_' +\\\n",
    "#            'refit_dir_' + str(chain.cfg['refit_dir']) + '_' +\\\n",
    "#            'fiducial_0px_' +\\\n",
    "#            'no_selection_cut.png'\n",
    "#if make_plots:\n",
    "plt.savefig(fig_name, dpi=400) # bbox_inches='tight'"
   ]
  },
  {
   "cell_type": "code",
   "execution_count": null,
   "metadata": {},
   "outputs": [],
   "source": []
  },
  {
   "cell_type": "code",
   "execution_count": null,
   "metadata": {},
   "outputs": [],
   "source": []
  }
 ],
 "metadata": {
  "kernelspec": {
   "display_name": "Python 3",
   "language": "python",
   "name": "python3"
  },
  "language_info": {
   "codemirror_mode": {
    "name": "ipython",
    "version": 3
   },
   "file_extension": ".py",
   "mimetype": "text/x-python",
   "name": "python",
   "nbconvert_exporter": "python",
   "pygments_lexer": "ipython3",
   "version": "3.6.9"
  }
 },
 "nbformat": 4,
 "nbformat_minor": 4
}
