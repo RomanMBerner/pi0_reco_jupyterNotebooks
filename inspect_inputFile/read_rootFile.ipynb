{
 "cells": [
  {
   "cell_type": "markdown",
   "metadata": {},
   "source": [
    "# This notebook is used to inspect an input file\n",
    "e.g. to figure out the number of primary neutral pions, etc."
   ]
  },
  {
   "cell_type": "code",
   "execution_count": 36,
   "metadata": {},
   "outputs": [],
   "source": [
    "import glob\n",
    "from larcv import larcv\n",
    "import numpy as np\n",
    "import os\n",
    "import ROOT\n",
    "from ROOT import TCanvas, TFile, TProfile, TNtuple, TH1F, TH2F, TH3F, TH1, TLine\n",
    "#from ROOT import gROOT, gBenchmark, gRandom, gSystem, Double, gStyle"
   ]
  },
  {
   "cell_type": "markdown",
   "metadata": {},
   "source": [
    "### ROOT Batch Mode"
   ]
  },
  {
   "cell_type": "code",
   "execution_count": 8,
   "metadata": {},
   "outputs": [],
   "source": [
    "ROOT.gROOT.SetBatch(1)"
   ]
  },
  {
   "cell_type": "markdown",
   "metadata": {},
   "source": [
    "### Paths and Files"
   ]
  },
  {
   "cell_type": "code",
   "execution_count": 16,
   "metadata": {},
   "outputs": [],
   "source": [
    "#ls /sdf/home/r/rberner/reconstruction/data/pi0/"
   ]
  },
  {
   "cell_type": "code",
   "execution_count": 20,
   "metadata": {},
   "outputs": [
    {
     "name": "stdout",
     "output_type": "stream",
     "text": [
      " Datafiles ( 2 ): \n",
      "               pi0_dunend_v1_p00.root\n",
      "               pi0_dunend_v2_p00.root\n"
     ]
    }
   ],
   "source": [
    "datapath = '/sdf/home/r/rberner/reconstruction/data/pi0/'\n",
    "\n",
    "files = sorted([os.path.basename(path) for path in glob.glob(datapath+'/*.root')])\n",
    "print(' Datafiles (', len(files), '): ')\n",
    "for f in files:\n",
    "    print('              ', f)"
   ]
  },
  {
   "cell_type": "markdown",
   "metadata": {},
   "source": [
    "### ROOT Tree"
   ]
  },
  {
   "cell_type": "code",
   "execution_count": 30,
   "metadata": {},
   "outputs": [
    {
     "name": "stdout",
     "output_type": "stream",
     "text": [
      " Entries:  20000\n"
     ]
    }
   ],
   "source": [
    "input_tree = ROOT.TChain(\"particle_mpr_tree\", \"particle_mpr_tree\")\n",
    "input_tree.Add(datapath + '/' + files[0])\n",
    "\n",
    "print(' Entries: ', input_tree.GetEntries())\n",
    "\n",
    "input_tree.SetBranchStatus(\"*\", 1)"
   ]
  },
  {
   "cell_type": "code",
   "execution_count": 108,
   "metadata": {},
   "outputs": [
    {
     "name": "stdout",
     "output_type": "stream",
     "text": [
      " Branch:    <cppyy.gbl.larcv.EventParticle object at 0x6a59910>\n",
      " Run:       1\n",
      " Subrun:    1\n",
      " Event:     1\n",
      " Producer:  <C++ overload \"producer\" at 0x7fbe83788898>\n",
      " Producer:  mpr\n",
      " ???:  4294967295\n",
      " ???:  0\n",
      " ???:  0\n",
      " ???:  0.0\n",
      " ???:  4294967295\n",
      " ???:  0\n",
      " ???:  0\n",
      " ???:  0.0\n",
      " ???:  4294967295\n",
      " ???:  0\n",
      " ???:  0\n",
      " ???:  0.0\n",
      " ???:  4294967295\n",
      " ???:  0\n",
      " ???:  0\n",
      " ???:  0.0\n",
      " ???:  4294967295\n",
      " ???:  0\n",
      " ???:  0\n",
      " ???:  0.0\n",
      " ----------------------------------- \n",
      " Branch:    <cppyy.gbl.larcv.EventParticle object at 0x6a59910>\n",
      " Run:       1\n",
      " Subrun:    1\n",
      " Event:     2\n",
      " Producer:  <C++ overload \"producer\" at 0x7fbe83788898>\n",
      " Producer:  mpr\n",
      " ???:  4294967295\n",
      " ???:  0\n",
      " ???:  0\n",
      " ???:  0.0\n",
      " ???:  4294967295\n",
      " ???:  0\n",
      " ???:  0\n",
      " ???:  0.0\n",
      " ???:  4294967295\n",
      " ???:  0\n",
      " ???:  0\n",
      " ???:  0.0\n",
      " ???:  4294967295\n",
      " ???:  0\n",
      " ???:  0\n",
      " ???:  0.0\n",
      " ???:  4294967295\n",
      " ???:  0\n",
      " ???:  0\n",
      " ???:  0.0\n",
      " ----------------------------------- \n",
      " Branch:    <cppyy.gbl.larcv.EventParticle object at 0x6a59910>\n",
      " Run:       1\n",
      " Subrun:    1\n",
      " Event:     3\n",
      " Producer:  <C++ overload \"producer\" at 0x7fbe83788898>\n",
      " Producer:  mpr\n",
      " ???:  4294967295\n",
      " ???:  0\n",
      " ???:  0\n",
      " ???:  0.0\n",
      " ???:  4294967295\n",
      " ???:  0\n",
      " ???:  0\n",
      " ???:  0.0\n",
      " ???:  4294967295\n",
      " ???:  0\n",
      " ???:  0\n",
      " ???:  0.0\n",
      " ???:  4294967295\n",
      " ???:  0\n",
      " ???:  0\n",
      " ???:  0.0\n",
      " ???:  4294967295\n",
      " ???:  0\n",
      " ???:  0\n",
      " ???:  0.0\n",
      " ----------------------------------- \n",
      " Branch:    <cppyy.gbl.larcv.EventParticle object at 0x6a59910>\n",
      " Run:       1\n",
      " Subrun:    1\n",
      " Event:     4\n",
      " Producer:  <C++ overload \"producer\" at 0x7fbe83788898>\n",
      " Producer:  mpr\n",
      " ???:  4294967295\n",
      " ???:  0\n",
      " ???:  0\n",
      " ???:  0.0\n",
      " ???:  4294967295\n",
      " ???:  0\n",
      " ???:  0\n",
      " ???:  0.0\n",
      " ???:  4294967295\n",
      " ???:  0\n",
      " ???:  0\n",
      " ???:  0.0\n",
      " ???:  4294967295\n",
      " ???:  0\n",
      " ???:  0\n",
      " ???:  0.0\n",
      " ???:  4294967295\n",
      " ???:  0\n",
      " ???:  0\n",
      " ???:  0.0\n",
      " ----------------------------------- \n",
      " Branch:    <cppyy.gbl.larcv.EventParticle object at 0x6a59910>\n",
      " Run:       1\n",
      " Subrun:    1\n",
      " Event:     5\n",
      " Producer:  <C++ overload \"producer\" at 0x7fbe83788898>\n",
      " Producer:  mpr\n",
      " ???:  4294967295\n",
      " ???:  0\n",
      " ???:  0\n",
      " ???:  0.0\n",
      " ???:  4294967295\n",
      " ???:  0\n",
      " ???:  0\n",
      " ???:  0.0\n",
      " ???:  4294967295\n",
      " ???:  0\n",
      " ???:  0\n",
      " ???:  0.0\n",
      " ???:  4294967295\n",
      " ???:  0\n",
      " ???:  0\n",
      " ???:  0.0\n",
      " ???:  4294967295\n",
      " ???:  0\n",
      " ???:  0\n",
      " ???:  0.0\n",
      " ----------------------------------- \n"
     ]
    }
   ],
   "source": [
    "for entry in range(5): #input_tree.GetEntries()):\n",
    "    input_tree.GetEntry(entry)\n",
    "    print(' Branch:   ', input_tree.particle_mpr_branch)\n",
    "    print(' Run:      ', input_tree.particle_mpr_branch.run())\n",
    "    print(' Subrun:   ', input_tree.particle_mpr_branch.subrun())\n",
    "    print(' Event:    ', input_tree.particle_mpr_branch.event())\n",
    "    \n",
    "    print(' Producer: ', input_tree.particle_mpr_branch.producer)\n",
    "    print(' Producer: ', input_tree.particle_mpr_branch.producer())\n",
    "    \n",
    "    #particles = [larcv.Particle(p) for p in data[0].as_vector()]\n",
    "    #print(' Test: ', larcv.Particle)\n",
    "    \n",
    "    for i in range(5):\n",
    "        print(' ???: ', larcv.Particle(i).track_id())\n",
    "        print(' ???: ', larcv.Particle(i).pdg_code())\n",
    "        print(' ???: ', larcv.Particle(i).parent_pdg_code())\n",
    "        print(' ???: ', larcv.Particle(i).energy_init())\n",
    "        \n",
    "    print(' ----------------------------------- ')\n",
    "    \n",
    "    \n",
    "    #print(' Particle(0).pdg_code(): ', larcv.Particle(0).pdg_code())"
   ]
  },
  {
   "cell_type": "code",
   "execution_count": null,
   "metadata": {},
   "outputs": [],
   "source": []
  }
 ],
 "metadata": {
  "kernelspec": {
   "display_name": "Python 3",
   "language": "python",
   "name": "python3"
  },
  "language_info": {
   "codemirror_mode": {
    "name": "ipython",
    "version": 3
   },
   "file_extension": ".py",
   "mimetype": "text/x-python",
   "name": "python",
   "nbconvert_exporter": "python",
   "pygments_lexer": "ipython3",
   "version": "3.6.9"
  }
 },
 "nbformat": 4,
 "nbformat_minor": 4
}
